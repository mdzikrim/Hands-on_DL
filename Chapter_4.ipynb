{
  "nbformat": 4,
  "nbformat_minor": 0,
  "metadata": {
    "colab": {
      "provenance": [],
      "authorship_tag": "ABX9TyMNCP7HEcVKPdH/ssybtkwD",
      "include_colab_link": true
    },
    "kernelspec": {
      "name": "python3",
      "display_name": "Python 3"
    },
    "language_info": {
      "name": "python"
    }
  },
  "cells": [
    {
      "cell_type": "markdown",
      "metadata": {
        "id": "view-in-github",
        "colab_type": "text"
      },
      "source": [
        "<a href=\"https://colab.research.google.com/github/mdzikrim/Hands-on_DL/blob/main/Chapter_4.ipynb\" target=\"_parent\"><img src=\"https://colab.research.google.com/assets/colab-badge.svg\" alt=\"Open In Colab\"/></a>"
      ]
    },
    {
      "cell_type": "code",
      "execution_count": 1,
      "metadata": {
        "id": "x7h0uiW_h2WS"
      },
      "outputs": [],
      "source": [
        "import numpy as np\n",
        "import matplotlib.pyplot as plt\n",
        "from sklearn.datasets import fetch_openml\n",
        "from sklearn.model_selection import train_test_split\n"
      ]
    },
    {
      "cell_type": "code",
      "source": [
        "mnist = fetch_openml('mnist_784', version=1, as_frame=False)\n",
        "X, y = mnist[\"data\"], mnist[\"target\"].astype(np.int64)\n",
        "\n",
        "# Normalize data\n",
        "X = X / 255.0\n",
        "\n",
        "# One-hot encode labels\n",
        "def one_hot(y, num_classes):\n",
        "    return np.eye(num_classes)[y]\n",
        "\n",
        "# Split\n",
        "X_train_full, X_test, y_train_full, y_test = train_test_split(X, y, test_size=10000, random_state=42)\n",
        "X_train, X_val, y_train, y_val = train_test_split(X_train_full, y_train_full, test_size=5000, random_state=42)\n",
        "\n",
        "y_train_oh = one_hot(y_train, 10)\n",
        "y_val_oh = one_hot(y_val, 10)\n"
      ],
      "metadata": {
        "id": "BcHXvEUtk1Ts"
      },
      "execution_count": 2,
      "outputs": []
    },
    {
      "cell_type": "code",
      "source": [
        "def softmax(logits):\n",
        "    exp = np.exp(logits - np.max(logits, axis=1, keepdims=True))\n",
        "    return exp / np.sum(exp, axis=1, keepdims=True)\n",
        "\n",
        "def compute_loss(y_true, y_pred):\n",
        "    m = y_true.shape[0]\n",
        "    return -np.sum(y_true * np.log(y_pred + 1e-9)) / m\n",
        "\n",
        "def predict(X, W, b):\n",
        "    logits = X.dot(W) + b\n",
        "    return np.argmax(softmax(logits), axis=1)\n",
        "\n",
        "def accuracy(y_true, y_pred):\n",
        "    return np.mean(y_true == y_pred)\n"
      ],
      "metadata": {
        "id": "5COmH25mk4R-"
      },
      "execution_count": 3,
      "outputs": []
    },
    {
      "cell_type": "code",
      "source": [
        "n_inputs = X.shape[1]   # 784\n",
        "n_outputs = 10          # digit 0-9\n",
        "\n",
        "W = np.random.randn(n_inputs, n_outputs) * 0.01\n",
        "b = np.zeros(n_outputs)\n"
      ],
      "metadata": {
        "id": "kV2eWK3ik6Ya"
      },
      "execution_count": 4,
      "outputs": []
    },
    {
      "cell_type": "code",
      "source": [
        "# Hyperparameters\n",
        "learning_rate = 0.1\n",
        "n_epochs = 100\n",
        "batch_size = 1000\n",
        "patience = 5\n",
        "\n",
        "# Tracking\n",
        "best_val_loss = np.inf\n",
        "patience_count = 0\n",
        "\n",
        "train_losses, val_losses = [], []\n",
        "\n",
        "for epoch in range(n_epochs):\n",
        "    indices = np.random.permutation(X_train.shape[0])\n",
        "    X_shuffled = X_train[indices]\n",
        "    y_shuffled = y_train_oh[indices]\n",
        "\n",
        "    for i in range(0, X_train.shape[0], batch_size):\n",
        "        X_batch = X_shuffled[i:i+batch_size]\n",
        "        y_batch = y_shuffled[i:i+batch_size]\n",
        "\n",
        "        logits = X_batch.dot(W) + b\n",
        "        y_pred = softmax(logits)\n",
        "\n",
        "        error = y_pred - y_batch\n",
        "        grad_W = X_batch.T.dot(error) / batch_size\n",
        "        grad_b = np.mean(error, axis=0)\n",
        "\n",
        "        W -= learning_rate * grad_W\n",
        "        b -= learning_rate * grad_b\n",
        "\n",
        "    # Loss monitoring\n",
        "    y_train_pred = softmax(X_train.dot(W) + b)\n",
        "    y_val_pred = softmax(X_val.dot(W) + b)\n",
        "    train_loss = compute_loss(y_train_oh, y_train_pred)\n",
        "    val_loss = compute_loss(y_val_oh, y_val_pred)\n",
        "\n",
        "    train_losses.append(train_loss)\n",
        "    val_losses.append(val_loss)\n",
        "\n",
        "    print(f\"Epoch {epoch+1} | Train Loss: {train_loss:.4f} | Val Loss: {val_loss:.4f}\")\n",
        "\n",
        "    # Early stopping\n",
        "    if val_loss < best_val_loss:\n",
        "        best_val_loss = val_loss\n",
        "        patience_count = 0\n",
        "        best_W, best_b = W.copy(), b.copy()\n",
        "    else:\n",
        "        patience_count += 1\n",
        "        if patience_count >= patience:\n",
        "            print(\"Early stopping triggered.\")\n",
        "            break\n"
      ],
      "metadata": {
        "colab": {
          "base_uri": "https://localhost:8080/"
        },
        "id": "R9Sh30Ssk8EA",
        "outputId": "eef26a02-36c8-4ab3-b930-a26d9887ee6c"
      },
      "execution_count": 5,
      "outputs": [
        {
          "output_type": "stream",
          "name": "stdout",
          "text": [
            "Epoch 1 | Train Loss: 0.7620 | Val Loss: 0.7646\n",
            "Epoch 2 | Train Loss: 0.5861 | Val Loss: 0.5859\n",
            "Epoch 3 | Train Loss: 0.5147 | Val Loss: 0.5118\n",
            "Epoch 4 | Train Loss: 0.4742 | Val Loss: 0.4701\n",
            "Epoch 5 | Train Loss: 0.4474 | Val Loss: 0.4421\n",
            "Epoch 6 | Train Loss: 0.4281 | Val Loss: 0.4222\n",
            "Epoch 7 | Train Loss: 0.4133 | Val Loss: 0.4072\n",
            "Epoch 8 | Train Loss: 0.4014 | Val Loss: 0.3949\n",
            "Epoch 9 | Train Loss: 0.3917 | Val Loss: 0.3846\n",
            "Epoch 10 | Train Loss: 0.3835 | Val Loss: 0.3766\n",
            "Epoch 11 | Train Loss: 0.3764 | Val Loss: 0.3696\n",
            "Epoch 12 | Train Loss: 0.3704 | Val Loss: 0.3633\n",
            "Epoch 13 | Train Loss: 0.3651 | Val Loss: 0.3577\n",
            "Epoch 14 | Train Loss: 0.3602 | Val Loss: 0.3530\n",
            "Epoch 15 | Train Loss: 0.3560 | Val Loss: 0.3493\n",
            "Epoch 16 | Train Loss: 0.3520 | Val Loss: 0.3451\n",
            "Epoch 17 | Train Loss: 0.3485 | Val Loss: 0.3417\n",
            "Epoch 18 | Train Loss: 0.3453 | Val Loss: 0.3387\n",
            "Epoch 19 | Train Loss: 0.3422 | Val Loss: 0.3360\n",
            "Epoch 20 | Train Loss: 0.3395 | Val Loss: 0.3332\n",
            "Epoch 21 | Train Loss: 0.3369 | Val Loss: 0.3304\n",
            "Epoch 22 | Train Loss: 0.3345 | Val Loss: 0.3281\n",
            "Epoch 23 | Train Loss: 0.3323 | Val Loss: 0.3267\n",
            "Epoch 24 | Train Loss: 0.3301 | Val Loss: 0.3244\n",
            "Epoch 25 | Train Loss: 0.3282 | Val Loss: 0.3222\n",
            "Epoch 26 | Train Loss: 0.3263 | Val Loss: 0.3207\n",
            "Epoch 27 | Train Loss: 0.3245 | Val Loss: 0.3192\n",
            "Epoch 28 | Train Loss: 0.3229 | Val Loss: 0.3176\n",
            "Epoch 29 | Train Loss: 0.3213 | Val Loss: 0.3162\n",
            "Epoch 30 | Train Loss: 0.3198 | Val Loss: 0.3149\n",
            "Epoch 31 | Train Loss: 0.3185 | Val Loss: 0.3138\n",
            "Epoch 32 | Train Loss: 0.3170 | Val Loss: 0.3126\n",
            "Epoch 33 | Train Loss: 0.3158 | Val Loss: 0.3113\n",
            "Epoch 34 | Train Loss: 0.3144 | Val Loss: 0.3101\n",
            "Epoch 35 | Train Loss: 0.3133 | Val Loss: 0.3091\n",
            "Epoch 36 | Train Loss: 0.3121 | Val Loss: 0.3082\n",
            "Epoch 37 | Train Loss: 0.3110 | Val Loss: 0.3072\n",
            "Epoch 38 | Train Loss: 0.3101 | Val Loss: 0.3066\n",
            "Epoch 39 | Train Loss: 0.3089 | Val Loss: 0.3058\n",
            "Epoch 40 | Train Loss: 0.3079 | Val Loss: 0.3047\n",
            "Epoch 41 | Train Loss: 0.3070 | Val Loss: 0.3038\n",
            "Epoch 42 | Train Loss: 0.3060 | Val Loss: 0.3029\n",
            "Epoch 43 | Train Loss: 0.3052 | Val Loss: 0.3023\n",
            "Epoch 44 | Train Loss: 0.3043 | Val Loss: 0.3021\n",
            "Epoch 45 | Train Loss: 0.3036 | Val Loss: 0.3012\n",
            "Epoch 46 | Train Loss: 0.3027 | Val Loss: 0.3005\n",
            "Epoch 47 | Train Loss: 0.3019 | Val Loss: 0.2998\n",
            "Epoch 48 | Train Loss: 0.3011 | Val Loss: 0.2992\n",
            "Epoch 49 | Train Loss: 0.3004 | Val Loss: 0.2986\n",
            "Epoch 50 | Train Loss: 0.2997 | Val Loss: 0.2977\n",
            "Epoch 51 | Train Loss: 0.2991 | Val Loss: 0.2975\n",
            "Epoch 52 | Train Loss: 0.2983 | Val Loss: 0.2967\n",
            "Epoch 53 | Train Loss: 0.2977 | Val Loss: 0.2967\n",
            "Epoch 54 | Train Loss: 0.2970 | Val Loss: 0.2961\n",
            "Epoch 55 | Train Loss: 0.2964 | Val Loss: 0.2955\n",
            "Epoch 56 | Train Loss: 0.2958 | Val Loss: 0.2953\n",
            "Epoch 57 | Train Loss: 0.2952 | Val Loss: 0.2945\n",
            "Epoch 58 | Train Loss: 0.2947 | Val Loss: 0.2942\n",
            "Epoch 59 | Train Loss: 0.2940 | Val Loss: 0.2936\n",
            "Epoch 60 | Train Loss: 0.2935 | Val Loss: 0.2930\n",
            "Epoch 61 | Train Loss: 0.2930 | Val Loss: 0.2933\n",
            "Epoch 62 | Train Loss: 0.2924 | Val Loss: 0.2924\n",
            "Epoch 63 | Train Loss: 0.2919 | Val Loss: 0.2919\n",
            "Epoch 64 | Train Loss: 0.2914 | Val Loss: 0.2918\n",
            "Epoch 65 | Train Loss: 0.2909 | Val Loss: 0.2914\n",
            "Epoch 66 | Train Loss: 0.2906 | Val Loss: 0.2913\n",
            "Epoch 67 | Train Loss: 0.2900 | Val Loss: 0.2904\n",
            "Epoch 68 | Train Loss: 0.2897 | Val Loss: 0.2901\n",
            "Epoch 69 | Train Loss: 0.2891 | Val Loss: 0.2899\n",
            "Epoch 70 | Train Loss: 0.2888 | Val Loss: 0.2900\n",
            "Epoch 71 | Train Loss: 0.2882 | Val Loss: 0.2894\n",
            "Epoch 72 | Train Loss: 0.2878 | Val Loss: 0.2892\n",
            "Epoch 73 | Train Loss: 0.2874 | Val Loss: 0.2885\n",
            "Epoch 74 | Train Loss: 0.2870 | Val Loss: 0.2884\n",
            "Epoch 75 | Train Loss: 0.2866 | Val Loss: 0.2883\n",
            "Epoch 76 | Train Loss: 0.2862 | Val Loss: 0.2878\n",
            "Epoch 77 | Train Loss: 0.2858 | Val Loss: 0.2874\n",
            "Epoch 78 | Train Loss: 0.2855 | Val Loss: 0.2872\n",
            "Epoch 79 | Train Loss: 0.2851 | Val Loss: 0.2870\n",
            "Epoch 80 | Train Loss: 0.2847 | Val Loss: 0.2870\n",
            "Epoch 81 | Train Loss: 0.2843 | Val Loss: 0.2868\n",
            "Epoch 82 | Train Loss: 0.2839 | Val Loss: 0.2863\n",
            "Epoch 83 | Train Loss: 0.2836 | Val Loss: 0.2863\n",
            "Epoch 84 | Train Loss: 0.2833 | Val Loss: 0.2861\n",
            "Epoch 85 | Train Loss: 0.2829 | Val Loss: 0.2861\n",
            "Epoch 86 | Train Loss: 0.2826 | Val Loss: 0.2855\n",
            "Epoch 87 | Train Loss: 0.2823 | Val Loss: 0.2852\n",
            "Epoch 88 | Train Loss: 0.2821 | Val Loss: 0.2852\n",
            "Epoch 89 | Train Loss: 0.2817 | Val Loss: 0.2849\n",
            "Epoch 90 | Train Loss: 0.2814 | Val Loss: 0.2845\n",
            "Epoch 91 | Train Loss: 0.2811 | Val Loss: 0.2848\n",
            "Epoch 92 | Train Loss: 0.2808 | Val Loss: 0.2843\n",
            "Epoch 93 | Train Loss: 0.2805 | Val Loss: 0.2840\n",
            "Epoch 94 | Train Loss: 0.2802 | Val Loss: 0.2840\n",
            "Epoch 95 | Train Loss: 0.2799 | Val Loss: 0.2837\n",
            "Epoch 96 | Train Loss: 0.2797 | Val Loss: 0.2835\n",
            "Epoch 97 | Train Loss: 0.2794 | Val Loss: 0.2838\n",
            "Epoch 98 | Train Loss: 0.2790 | Val Loss: 0.2831\n",
            "Epoch 99 | Train Loss: 0.2788 | Val Loss: 0.2827\n",
            "Epoch 100 | Train Loss: 0.2785 | Val Loss: 0.2829\n"
          ]
        }
      ]
    },
    {
      "cell_type": "code",
      "source": [
        "y_test_pred = predict(X_test, best_W, best_b)\n",
        "test_acc = accuracy(y_test, y_test_pred)\n",
        "print(\"Test accuracy:\", test_acc)\n"
      ],
      "metadata": {
        "colab": {
          "base_uri": "https://localhost:8080/"
        },
        "id": "QU8ad1i5k-_u",
        "outputId": "12bd2fa4-e13f-4070-85f3-74587e16775d"
      },
      "execution_count": 6,
      "outputs": [
        {
          "output_type": "stream",
          "name": "stdout",
          "text": [
            "Test accuracy: 0.917\n"
          ]
        }
      ]
    },
    {
      "cell_type": "code",
      "source": [
        "plt.plot(train_losses, label=\"Train Loss\")\n",
        "plt.plot(val_losses, label=\"Validation Loss\")\n",
        "plt.xlabel(\"Epoch\")\n",
        "plt.ylabel(\"Loss\")\n",
        "plt.legend()\n",
        "plt.title(\"Training vs Validation Loss\")\n",
        "plt.show()\n"
      ],
      "metadata": {
        "colab": {
          "base_uri": "https://localhost:8080/",
          "height": 472
        },
        "id": "t9ZBP3ULlBJu",
        "outputId": "29b2e5f0-3905-42e7-8ac9-b0fd3a0b8dbf"
      },
      "execution_count": 7,
      "outputs": [
        {
          "output_type": "display_data",
          "data": {
            "text/plain": [
              "<Figure size 640x480 with 1 Axes>"
            ],
            "image/png": "[encoded data removed]"
          },
          "metadata": {}
        }
      ]
    }
  ]
}