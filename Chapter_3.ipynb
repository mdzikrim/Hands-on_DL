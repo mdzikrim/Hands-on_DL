{
  "nbformat": 4,
  "nbformat_minor": 0,
  "metadata": {
    "colab": {
      "provenance": [],
      "authorship_tag": "ABX9TyPqZHNpR5wp7Vc96Kn6Gphp",
      "include_colab_link": true
    },
    "kernelspec": {
      "name": "python3",
      "display_name": "Python 3"
    },
    "language_info": {
      "name": "python"
    }
  },
  "cells": [
    {
      "cell_type": "markdown",
      "metadata": {
        "id": "view-in-github",
        "colab_type": "text"
      },
      "source": [
        "<a href=\"https://colab.research.google.com/github/mdzikrim/Hands-on_DL/blob/main/Chapter_3.ipynb\" target=\"_parent\"><img src=\"https://colab.research.google.com/assets/colab-badge.svg\" alt=\"Open In Colab\"/></a>"
      ]
    },
    {
      "cell_type": "markdown",
      "source": [
        "##MNIST Classifier"
      ],
      "metadata": {
        "id": "tLLQikFFgYPr"
      }
    },
    {
      "cell_type": "code",
      "execution_count": 2,
      "metadata": {
        "id": "-1rPLR2zfg4C"
      },
      "outputs": [],
      "source": [
        "import numpy as np\n",
        "from sklearn.datasets import fetch_openml\n",
        "from sklearn.model_selection import train_test_split, GridSearchCV\n",
        "from sklearn.pipeline import Pipeline\n",
        "from sklearn.preprocessing import StandardScaler\n",
        "from sklearn.neighbors import KNeighborsClassifier\n",
        "from sklearn.metrics import accuracy_score\n"
      ]
    },
    {
      "cell_type": "code",
      "source": [
        "mnist = fetch_openml('mnist_784', version=1, as_frame=False)\n",
        "X, y = mnist.data, mnist.target.astype(np.uint8)\n",
        "X_train, X_test, y_train, y_test = train_test_split(X, y, test_size=10000, stratify=y, random_state=42)\n"
      ],
      "metadata": {
        "id": "M_PHewzogLy0"
      },
      "execution_count": 3,
      "outputs": []
    },
    {
      "cell_type": "code",
      "source": [
        "knn_pipeline = Pipeline([\n",
        "    (\"scaler\", StandardScaler()),\n",
        "    (\"knn\", KNeighborsClassifier())\n",
        "])\n",
        "\n",
        "param_grid = {\n",
        "    \"knn__n_neighbors\": [3, 4, 5],\n",
        "    \"knn__weights\": [\"uniform\", \"distance\"]\n",
        "}\n",
        "\n",
        "grid_search = GridSearchCV(knn_pipeline, param_grid, cv=3, scoring=\"accuracy\", verbose=2, n_jobs=-1)\n",
        "grid_search.fit(X_train, y_train)\n",
        "\n",
        "best_model = grid_search.best_estimator_\n",
        "y_pred = best_model.predict(X_test)\n",
        "print(\"Best Params:\", grid_search.best_params_)\n",
        "print(\"Test Accuracy:\", accuracy_score(y_test, y_pred))\n"
      ],
      "metadata": {
        "colab": {
          "base_uri": "https://localhost:8080/"
        },
        "id": "XiS96YuSgNaZ",
        "outputId": "21fde3a2-cc2f-4b1a-bd5a-21246d97b68a"
      },
      "execution_count": 4,
      "outputs": [
        {
          "output_type": "stream",
          "name": "stdout",
          "text": [
            "Fitting 3 folds for each of 6 candidates, totalling 18 fits\n",
            "Best Params: {'knn__n_neighbors': 4, 'knn__weights': 'distance'}\n",
            "Test Accuracy: 0.9498\n"
          ]
        }
      ]
    },
    {
      "cell_type": "markdown",
      "source": [
        "##MNIST Data Augmentation"
      ],
      "metadata": {
        "id": "4OMJae9egff2"
      }
    },
    {
      "cell_type": "code",
      "source": [
        "from scipy.ndimage import shift\n",
        "\n",
        "def shift_image(image, dx, dy):\n",
        "    image = image.reshape(28, 28)\n",
        "    shifted = shift(image, [dy, dx], cval=0, mode=\"constant\")\n",
        "    return shifted.reshape(-1)\n"
      ],
      "metadata": {
        "id": "Ex6aI4tqgPUU"
      },
      "execution_count": 5,
      "outputs": []
    },
    {
      "cell_type": "code",
      "source": [
        "X_train_augmented = [X_train]\n",
        "y_train_augmented = [y_train]\n",
        "\n",
        "for dx, dy in ((1, 0), (-1, 0), (0, 1), (0, -1)):\n",
        "    shifted = np.apply_along_axis(shift_image, axis=1, arr=X_train, dx=dx, dy=dy)\n",
        "    X_train_augmented.append(shifted)\n",
        "    y_train_augmented.append(y_train)\n",
        "\n",
        "X_train_aug = np.concatenate(X_train_augmented)\n",
        "y_train_aug = np.concatenate(y_train_augmented)\n",
        "print(\"Ukuran setelah augmentasi:\", X_train_aug.shape)\n"
      ],
      "metadata": {
        "colab": {
          "base_uri": "https://localhost:8080/"
        },
        "id": "jy8kMWBogREb",
        "outputId": "f097b3e5-9bbe-432f-82f4-ed9ee78db9a9"
      },
      "execution_count": 6,
      "outputs": [
        {
          "output_type": "stream",
          "name": "stdout",
          "text": [
            "Ukuran setelah augmentasi: (300000, 784)\n"
          ]
        }
      ]
    },
    {
      "cell_type": "code",
      "source": [
        "aug_pipeline = Pipeline([\n",
        "    (\"scaler\", StandardScaler()),\n",
        "    (\"knn\", KNeighborsClassifier(n_neighbors=3, weights=\"distance\"))\n",
        "])\n",
        "\n",
        "aug_pipeline.fit(X_train_aug, y_train_aug)\n",
        "y_pred_aug = aug_pipeline.predict(X_test)\n",
        "print(\"Accuracy after augmentation:\", accuracy_score(y_test, y_pred_aug))\n"
      ],
      "metadata": {
        "colab": {
          "base_uri": "https://localhost:8080/"
        },
        "id": "MvCE45EKgTIr",
        "outputId": "ffb3f658-ad6d-442f-fa0a-c69081c7052f"
      },
      "execution_count": 7,
      "outputs": [
        {
          "output_type": "stream",
          "name": "stdout",
          "text": [
            "Accuracy after augmentation: 0.9636\n"
          ]
        }
      ]
    },
    {
      "cell_type": "markdown",
      "source": [
        "##TItanic Dataset Classifier"
      ],
      "metadata": {
        "id": "5Jlz0cAagjID"
      }
    },
    {
      "cell_type": "code",
      "source": [
        "# Upload 'train.csv' dari Kaggle ke environment Colab\n",
        "import pandas as pd\n",
        "\n",
        "titanic = pd.read_csv(\"train.csv\")\n",
        "\n",
        "titanic[\"Sex\"] = titanic[\"Sex\"].map({\"male\": 0, \"female\": 1})\n",
        "titanic[\"Embarked\"].fillna(\"S\", inplace=True)\n",
        "titanic[\"Embarked\"] = titanic[\"Embarked\"].map({\"S\": 0, \"C\": 1, \"Q\": 2})\n",
        "titanic[\"Age\"].fillna(titanic[\"Age\"].median(), inplace=True)\n",
        "titanic[\"Fare\"].fillna(titanic[\"Fare\"].median(), inplace=True)\n",
        "\n",
        "features = [\"Pclass\", \"Sex\", \"Age\", \"SibSp\", \"Parch\", \"Fare\", \"Embarked\"]\n",
        "X = titanic[features]\n",
        "y = titanic[\"Survived\"]\n"
      ],
      "metadata": {
        "colab": {
          "base_uri": "https://localhost:8080/"
        },
        "id": "gj5FZwqjgnZE",
        "outputId": "78b6507c-18cf-4087-d4ff-dcb140e3a239"
      },
      "execution_count": 9,
      "outputs": [
        {
          "output_type": "stream",
          "name": "stderr",
          "text": [
            "/tmp/ipython-input-9-1677804094.py:7: FutureWarning: A value is trying to be set on a copy of a DataFrame or Series through chained assignment using an inplace method.\n",
            "The behavior will change in pandas 3.0. This inplace method will never work because the intermediate object on which we are setting values always behaves as a copy.\n",
            "\n",
            "For example, when doing 'df[col].method(value, inplace=True)', try using 'df.method({col: value}, inplace=True)' or df[col] = df[col].method(value) instead, to perform the operation inplace on the original object.\n",
            "\n",
            "\n",
            "  titanic[\"Embarked\"].fillna(\"S\", inplace=True)\n",
            "/tmp/ipython-input-9-1677804094.py:9: FutureWarning: A value is trying to be set on a copy of a DataFrame or Series through chained assignment using an inplace method.\n",
            "The behavior will change in pandas 3.0. This inplace method will never work because the intermediate object on which we are setting values always behaves as a copy.\n",
            "\n",
            "For example, when doing 'df[col].method(value, inplace=True)', try using 'df.method({col: value}, inplace=True)' or df[col] = df[col].method(value) instead, to perform the operation inplace on the original object.\n",
            "\n",
            "\n",
            "  titanic[\"Age\"].fillna(titanic[\"Age\"].median(), inplace=True)\n",
            "/tmp/ipython-input-9-1677804094.py:10: FutureWarning: A value is trying to be set on a copy of a DataFrame or Series through chained assignment using an inplace method.\n",
            "The behavior will change in pandas 3.0. This inplace method will never work because the intermediate object on which we are setting values always behaves as a copy.\n",
            "\n",
            "For example, when doing 'df[col].method(value, inplace=True)', try using 'df.method({col: value}, inplace=True)' or df[col] = df[col].method(value) instead, to perform the operation inplace on the original object.\n",
            "\n",
            "\n",
            "  titanic[\"Fare\"].fillna(titanic[\"Fare\"].median(), inplace=True)\n"
          ]
        }
      ]
    },
    {
      "cell_type": "code",
      "source": [
        "from sklearn.ensemble import RandomForestClassifier\n",
        "from sklearn.model_selection import cross_val_score\n",
        "\n",
        "model = RandomForestClassifier(random_state=42)\n",
        "scores = cross_val_score(model, X, y, cv=5)\n",
        "print(\"Cross-val accuracy:\", scores.mean())\n"
      ],
      "metadata": {
        "colab": {
          "base_uri": "https://localhost:8080/"
        },
        "id": "B_t74mYIgrX_",
        "outputId": "ab6b678c-4bf2-41ae-cb43-021b05fba7bc"
      },
      "execution_count": 10,
      "outputs": [
        {
          "output_type": "stream",
          "name": "stdout",
          "text": [
            "Cross-val accuracy: 0.8114682066411399\n"
          ]
        }
      ]
    },
    {
      "cell_type": "markdown",
      "source": [
        "##Spam Classifier"
      ],
      "metadata": {
        "id": "39CcPLOtgsnQ"
      }
    },
    {
      "cell_type": "code",
      "source": [
        "spam = [\"Free money!!!\", \"You won a prize!\", \"Important notice\"]\n",
        "ham = [\"Let's have lunch tomorrow.\", \"See you at the meeting.\", \"Happy birthday!\"]\n",
        "\n",
        "X = spam + ham\n",
        "y = [1]*len(spam) + [0]*len(ham)\n"
      ],
      "metadata": {
        "id": "iPYeBP1cguza"
      },
      "execution_count": 11,
      "outputs": []
    },
    {
      "cell_type": "code",
      "source": [
        "from sklearn.feature_extraction.text import TfidfVectorizer\n",
        "from sklearn.linear_model import LogisticRegression\n",
        "from sklearn.model_selection import train_test_split\n",
        "\n",
        "X_train, X_test, y_train, y_test = train_test_split(X, y, test_size=0.2, random_state=42)\n",
        "\n",
        "vectorizer = TfidfVectorizer()\n",
        "X_train_vec = vectorizer.fit_transform(X_train)\n",
        "X_test_vec = vectorizer.transform(X_test)\n",
        "\n",
        "model = LogisticRegression()\n",
        "model.fit(X_train_vec, y_train)\n",
        "\n",
        "print(\"Spam classifier accuracy:\", model.score(X_test_vec, y_test))\n"
      ],
      "metadata": {
        "colab": {
          "base_uri": "https://localhost:8080/"
        },
        "id": "jREr4v78gxm4",
        "outputId": "2b78e58d-b86d-474b-ef56-ab38913ddda2"
      },
      "execution_count": 12,
      "outputs": [
        {
          "output_type": "stream",
          "name": "stdout",
          "text": [
            "Spam classifier accuracy: 0.0\n"
          ]
        }
      ]
    }
  ]
}