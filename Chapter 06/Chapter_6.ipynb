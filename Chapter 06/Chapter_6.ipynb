{
  "nbformat": 4,
  "nbformat_minor": 0,
  "metadata": {
    "colab": {
      "provenance": [],
      "authorship_tag": "ABX9TyO8j/YT/9DGbsETRGhqf0Fg",
      "include_colab_link": true
    },
    "kernelspec": {
      "name": "python3",
      "display_name": "Python 3"
    },
    "language_info": {
      "name": "python"
    }
  },
  "cells": [
    {
      "cell_type": "markdown",
      "metadata": {
        "id": "view-in-github",
        "colab_type": "text"
      },
      "source": [
        "<a href=\"https://colab.research.google.com/github/mdzikrim/Hands-on_DL/blob/main/Chapter_6.ipynb\" target=\"_parent\"><img src=\"https://colab.research.google.com/assets/colab-badge.svg\" alt=\"Open In Colab\"/></a>"
      ]
    },
    {
      "cell_type": "code",
      "execution_count": 1,
      "metadata": {
        "id": "0AldkR8Ipffn"
      },
      "outputs": [],
      "source": [
        "import numpy as np\n",
        "from sklearn.datasets import make_moons\n",
        "from sklearn.tree import DecisionTreeClassifier\n",
        "from sklearn.model_selection import train_test_split, GridSearchCV, ShuffleSplit\n",
        "from sklearn.metrics import accuracy_score\n",
        "from scipy.stats import mode\n"
      ]
    },
    {
      "cell_type": "code",
      "source": [
        "# Generate moons dataset\n",
        "X, y = make_moons(n_samples=10000, noise=0.4, random_state=42)\n",
        "\n",
        "# Split menjadi training dan test\n",
        "X_train, X_test, y_train, y_test = train_test_split(X, y, random_state=42)\n",
        "\n",
        "print(\"Ukuran data train:\", X_train.shape)\n",
        "print(\"Ukuran data test:\", X_test.shape)\n"
      ],
      "metadata": {
        "colab": {
          "base_uri": "https://localhost:8080/"
        },
        "id": "Y1rZR_FMpj4c",
        "outputId": "46320f60-8ec4-4ba1-bedb-0d57e4b970df"
      },
      "execution_count": 2,
      "outputs": [
        {
          "output_type": "stream",
          "name": "stdout",
          "text": [
            "Ukuran data train: (7500, 2)\n",
            "Ukuran data test: (2500, 2)\n"
          ]
        }
      ]
    },
    {
      "cell_type": "code",
      "source": [
        "# Hyperparameter tuning menggunakan GridSearchCV\n",
        "param_grid = {\"max_leaf_nodes\": list(range(2, 100))}\n",
        "grid_search = GridSearchCV(DecisionTreeClassifier(random_state=42), param_grid, cv=3, scoring=\"accuracy\")\n",
        "grid_search.fit(X_train, y_train)\n",
        "\n",
        "print(\"Best max_leaf_nodes:\", grid_search.best_params_)\n"
      ],
      "metadata": {
        "colab": {
          "base_uri": "https://localhost:8080/"
        },
        "id": "bSa_yLaxpliZ",
        "outputId": "5a4bfb52-6b17-47b2-b297-7b3c313763e0"
      },
      "execution_count": 3,
      "outputs": [
        {
          "output_type": "stream",
          "name": "stdout",
          "text": [
            "Best max_leaf_nodes: {'max_leaf_nodes': 21}\n"
          ]
        }
      ]
    },
    {
      "cell_type": "code",
      "source": [
        "# Latih model terbaik dan evaluasi\n",
        "best_tree = grid_search.best_estimator_\n",
        "y_pred_test = best_tree.predict(X_test)\n",
        "accuracy = accuracy_score(y_test, y_pred_test)\n",
        "\n",
        "print(\"Test set accuracy (best tree):\", accuracy)\n"
      ],
      "metadata": {
        "colab": {
          "base_uri": "https://localhost:8080/"
        },
        "id": "DCeFPqKKpnD8",
        "outputId": "1a17fb4e-d116-4c5c-8758-869896030dcc"
      },
      "execution_count": 4,
      "outputs": [
        {
          "output_type": "stream",
          "name": "stdout",
          "text": [
            "Test set accuracy (best tree): 0.8648\n"
          ]
        }
      ]
    },
    {
      "cell_type": "code",
      "source": [
        "# Buat 1000 subset random dari training set, masing-masing 100 data\n",
        "n_trees = 1000\n",
        "n_instances = 100\n",
        "splitter = ShuffleSplit(n_splits=n_trees, train_size=n_instances, random_state=42)\n",
        "\n",
        "mini_sets = []\n",
        "for train_idx, _ in splitter.split(X_train):\n",
        "    X_mini = X_train[train_idx]\n",
        "    y_mini = y_train[train_idx]\n",
        "    mini_sets.append((X_mini, y_mini))\n",
        "\n",
        "print(\"Jumlah subset:\", len(mini_sets))\n"
      ],
      "metadata": {
        "colab": {
          "base_uri": "https://localhost:8080/"
        },
        "id": "kVBt9_b7pojS",
        "outputId": "1bdb6687-aa74-4bb3-a7e6-ba2b5afca4b6"
      },
      "execution_count": 5,
      "outputs": [
        {
          "output_type": "stream",
          "name": "stdout",
          "text": [
            "Jumlah subset: 1000\n"
          ]
        }
      ]
    },
    {
      "cell_type": "code",
      "source": [
        "# Latih Decision Tree untuk masing-masing subset\n",
        "trees = []\n",
        "for X_mini, y_mini in mini_sets:\n",
        "    tree = DecisionTreeClassifier(max_leaf_nodes=grid_search.best_params_[\"max_leaf_nodes\"], random_state=42)\n",
        "    tree.fit(X_mini, y_mini)\n",
        "    trees.append(tree)\n",
        "\n",
        "print(\"1000 pohon selesai dilatih.\")\n"
      ],
      "metadata": {
        "colab": {
          "base_uri": "https://localhost:8080/"
        },
        "id": "XPfd56b8pqvO",
        "outputId": "ba029df3-69b0-4bad-880c-199008e9ea9d"
      },
      "execution_count": 6,
      "outputs": [
        {
          "output_type": "stream",
          "name": "stdout",
          "text": [
            "1000 pohon selesai dilatih.\n"
          ]
        }
      ]
    },
    {
      "cell_type": "code",
      "source": [
        "# Voting semua pohon terhadap test set\n",
        "all_predictions = np.array([tree.predict(X_test) for tree in trees])\n",
        "majority_votes, _ = mode(all_predictions, axis=0)\n",
        "y_pred_forest = majority_votes.flatten()\n",
        "\n",
        "# Akurasi ensemble\n",
        "ensemble_accuracy = accuracy_score(y_test, y_pred_forest)\n",
        "print(\"Ensemble (manual random forest) accuracy:\", ensemble_accuracy)\n"
      ],
      "metadata": {
        "colab": {
          "base_uri": "https://localhost:8080/"
        },
        "id": "tWI8lKB6psWk",
        "outputId": "7fc133f1-804c-47a7-e86e-0d00c8ae3f8b"
      },
      "execution_count": 7,
      "outputs": [
        {
          "output_type": "stream",
          "name": "stdout",
          "text": [
            "Ensemble (manual random forest) accuracy: 0.8656\n"
          ]
        }
      ]
    }
  ]
}
